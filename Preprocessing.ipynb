{
 "cells": [
  {
   "cell_type": "code",
   "execution_count": 1,
   "metadata": {},
   "outputs": [],
   "source": [
    "import os\n",
    "import numpy as np\n",
    "import scipy.io as scio\n",
    "import matplotlib.pyplot as plt\n",
    "\n",
    "import torch\n",
    "import torch.nn as nn\n",
    "import torch.nn.functional as F\n",
    "import torch.optim as optim\n",
    "from torch.optim.lr_scheduler import StepLR\n",
    "from torch.utils.data import DataLoader, TensorDataset\n",
    "\n",
    "from sklearn.metrics import confusion_matrix\n",
    "from sklearn.model_selection import train_test_split"
   ]
  },
  {
   "cell_type": "code",
   "execution_count": 2,
   "metadata": {},
   "outputs": [],
   "source": [
    "## uncomment for colab\n",
    "\n",
    "# from google.colab import drive\n",
    "# drive.mount('/content/drive')\n",
    "# ! unzip -q \"/content/drive/MyDrive/Colab Notebooks/BVP.zip\""
   ]
  },
  {
   "cell_type": "code",
   "execution_count": 3,
   "metadata": {},
   "outputs": [],
   "source": [
    "gesture = {'Push & Pull':1,\n",
    "            'Sweep':2,\n",
    "            'Clap':3,\n",
    "            'Slide':4,\n",
    "            'Draw-N (V)':5,\n",
    "            'Draw-O (V)':6,\n",
    "            'Draw-Rectangle':7,\n",
    "            'Draw-Triangle':8,\n",
    "            'Draw-Zigzag (H)':9,\n",
    "            'Draw-Zigzag (V)':10,\n",
    "            'Draw-N (H)':11,\n",
    "            'Draw-O (H)':12,\n",
    "            'Draw-1':13,\n",
    "            'Draw-2':14,\n",
    "            'Draw-3':15,\n",
    "            'Draw-4':16,\n",
    "            'Draw-5':17,\n",
    "            'Draw-6':18,\n",
    "            'Draw-7':19,\n",
    "            'Draw-8':20,\n",
    "            'Draw-9':21,\n",
    "            'Draw-0':22,\n",
    "            }\n",
    "\n",
    "dataset_gesture = { '20181109':['Push & Pull', 'Sweep', 'Clap', 'Slide', 'Draw-Zigzag (V)', 'Draw-N (V)'],\n",
    "                    '20181112':['Draw-1', 'Draw-2', 'Draw-3', 'Draw-4', 'Draw-5', 'Draw-6', 'Draw-7', 'Draw-8', 'Draw-9', 'Draw-0'],\n",
    "                    '20181115':['Push & Pull', 'Sweep', 'Clap', 'Draw-O (V)', 'Draw-Zigzag (V)', 'Draw-N (V)'],\n",
    "                    '20181117':['Push & Pull', 'Sweep', 'Clap', 'Draw-O (V)', 'Draw-Zigzag (V)', 'Draw-N (V)'],\n",
    "                    '20181118':['Push & Pull', 'Sweep', 'Clap', 'Draw-O (V)', 'Draw-Zigzag (V)', 'Draw-N (V)'],\n",
    "                    '20181121':['Slide', 'Draw-O (H)', 'Draw-Zigzag (H)', 'Draw-N (H)', 'Draw-Triangle', 'Draw-Rectangle'],\n",
    "                    '20181127':['Slide', 'Draw-O (H)', 'Draw-Zigzag (H)', 'Draw-N (H)', 'Draw-Triangle', 'Draw-Rectangle'],\n",
    "                    '20181128':['Push & Pull', 'Sweep', 'Clap', 'Draw-O (H)', 'Draw-Zigzag (H)', 'Draw-N (H)'],\n",
    "                    '20181130':['Push & Pull', 'Sweep', 'Clap', 'Slide', 'Draw-O (H)', 'Draw-Zigzag (H)', 'Draw-N (H)', 'Draw-Triangle', 'Draw-Rectangle'],\n",
    "                    '20181204':['Push & Pull', 'Sweep', 'Clap', 'Slide', 'Draw-O (H)', 'Draw-Zigzag (H)', 'Draw-N (H)', 'Draw-Triangle', 'Draw-Rectangle'],\n",
    "                    '20181205':['Draw-O (H)', 'Draw-Zigzag (H)', 'Draw-N (H)', 'Draw-Triangle', 'Draw-Rectangle'],\n",
    "                    '20181206':['Slide', 'Draw-O (H)', 'Draw-Zigzag (H)', 'Draw-N (H)', 'Draw-Triangle', 'Draw-Rectangle'],\n",
    "                    '20181208':['Push & Pull', 'Sweep', 'Clap'],\n",
    "                    '20181209':['Push & Pull', 'Sweep', 'Clap', 'Slide', 'Draw-O (H)', 'Draw-Zigzag (H)'],\n",
    "                    '20181211':['Push & Pull', 'Sweep', 'Clap', 'Slide', 'Draw-O (H)', 'Draw-Zigzag (H)'],\n",
    "                    }"
   ]
  },
  {
   "cell_type": "markdown",
   "metadata": {},
   "source": [
    "# Parameters"
   ]
  },
  {
   "cell_type": "code",
   "execution_count": 4,
   "metadata": {},
   "outputs": [],
   "source": [
    "fraction_for_test = 0.2\n",
    "data_dir = 'BVP/'\n",
    "num_classes = 3\n",
    "ALL_MOTION = [i for i in range(1, num_classes+1)]\n",
    "N_MOTION = len(ALL_MOTION) # Number of output classes\n",
    "T_MAX = 38 # Number of timestamps\n",
    "n_gru_hidden_units = 128\n",
    "device = torch.device(\"cuda:0\" if torch.cuda.is_available() else \"cpu\")"
   ]
  },
  {
   "cell_type": "markdown",
   "metadata": {},
   "source": [
    "# Preprocessing"
   ]
  },
  {
   "cell_type": "code",
   "execution_count": 5,
   "metadata": {},
   "outputs": [],
   "source": [
    "def onehot_encoding(label, num_class):\n",
    "    # label(list)=>_label(ndarray): [N,]=>[N,num_class]\n",
    "    label = np.array(label).astype('int32')\n",
    "    # assert (np.arange(0,np.unique(label).size)==np.unique(label)).prod()    # Check label from 0 to N\n",
    "    label = np.squeeze(label)\n",
    "    _label = np.eye(num_class)[label-1]     # from label to onehot\n",
    "    return _label\n",
    "\n",
    "def normalize_data(data_1):\n",
    "    # data(ndarray)=>data_norm(ndarray): [20,20,T]=>[20,20,T]\n",
    "    data_1_max = np.concatenate((data_1.max(axis=0),data_1.max(axis=1)),axis=0).max(axis=0)\n",
    "    data_1_min = np.concatenate((data_1.min(axis=0),data_1.min(axis=1)),axis=0).min(axis=0)\n",
    "    if (len(np.where((data_1_max - data_1_min) == 0)[0]) > 0):\n",
    "        return data_1\n",
    "    data_1_max_rep = np.tile(data_1_max,(data_1.shape[0],data_1.shape[1],1))\n",
    "    data_1_min_rep = np.tile(data_1_min,(data_1.shape[0],data_1.shape[1],1))\n",
    "    data_1_norm = (data_1 - data_1_min_rep) / (data_1_max_rep - data_1_min_rep)\n",
    "    return  data_1_norm\n",
    "\n",
    "def zero_padding(data, T_MAX):\n",
    "    # data(list)=>data_pad(ndarray): [20,20,T1/T2/...]=>[20,20,T_MAX]\n",
    "    data_pad = []\n",
    "    for i in range(len(data)):\n",
    "        t = np.array(data[i]).shape[2]\n",
    "        data_pad.append(np.pad(data[i], ((0, 0),(0,0),(T_MAX - t,0)), 'constant', constant_values = 0).tolist())\n",
    "    return np.array(data_pad)\n",
    "\n",
    "def load_data(path_to_data, motion_sel, target_user):\n",
    "    global T_MAX\n",
    "    data = []\n",
    "    label = []\n",
    "    for data_root, data_dirs, data_files in os.walk(path_to_data):\n",
    "        for data_file_name in data_files:\n",
    "            file_path = os.path.join(data_root, data_file_name)\n",
    "            date = data_root.split('/')[1].split('-')[0]\n",
    "            try:\n",
    "                ges_num = int(data_file_name.split('-')[1])\n",
    "                ges_lable = dataset_gesture[date][ges_num-1]\n",
    "                label_1 = gesture[ges_lable]\n",
    "                user = int(data_file_name.split('-')[0].split('user')[-1])\n",
    "                location = int(data_file_name.split('-')[2])\n",
    "                orientation = int(data_file_name.split('-')[3])\n",
    "                repetition = int(data_file_name.split('-')[4])\n",
    "                    \n",
    "                # Select Motion\n",
    "                if (label_1 not in motion_sel):\n",
    "                    continue\n",
    "                \n",
    "                # Select User\n",
    "                if user != target_user:\n",
    "                    continue\n",
    "                \n",
    "                # Select Location\n",
    "                # if (location not in [1,2,3,5]):\n",
    "                #     continue\n",
    "\n",
    "                # Select Orientation\n",
    "                # if (orientation not in [1,2,4,5]):\n",
    "                #     continue\n",
    "                \n",
    "                data_1 = scio.loadmat(file_path)['velocity_spectrum_ro']\n",
    "                # print(data_1.shape)\n",
    "                \n",
    "                # Update T_MAX\n",
    "                if T_MAX < np.array(data_1).shape[2]:\n",
    "                    T_MAX = np.array(data_1).shape[2]\n",
    "\n",
    "                # Normalization\n",
    "                data_normed_1 = 100*normalize_data(data_1)\n",
    "                                \n",
    "            except Exception as error:\n",
    "                # print(type(error).__name__,' : ', error)\n",
    "                continue\n",
    "\n",
    "            # Save List\n",
    "            data.append(data_normed_1.tolist())\n",
    "            label.append(label_1 - 1)\n",
    "\n",
    "    # Zero-padding\n",
    "    data = zero_padding(data, T_MAX)\n",
    "\n",
    "    # Swap axes\n",
    "    data = np.swapaxes(np.swapaxes(data, 1, 3), 2, 3)   # [N,20,20',T_MAX]=>[N,T_MAX,20,20']\n",
    "    data = np.expand_dims(data, axis=2)    # [N,T_MAX,20,20]=>[N,T_MAX,20,20,1]\n",
    "\n",
    "    # Convert label to ndarray\n",
    "    label = np.array(label)\n",
    "\n",
    "    # data(ndarray): [N,T_MAX,20,20,1], label(ndarray): [N,N_MOTION]\n",
    "    return data, label"
   ]
  },
  {
   "cell_type": "markdown",
   "metadata": {},
   "source": [
    "## Seperate and Save each clients data"
   ]
  },
  {
   "cell_type": "code",
   "execution_count": 6,
   "metadata": {},
   "outputs": [
    {
     "name": "stdout",
     "output_type": "stream",
     "text": [
      "client 1 data extraction:\n",
      "\n",
      "Loaded dataset of 2775 samples, each sized (38, 1, 20, 20)\n",
      "\n",
      "client 2 data extraction:\n",
      "\n",
      "Loaded dataset of 2374 samples, each sized (38, 1, 20, 20)\n",
      "\n",
      "client 3 data extraction:\n",
      "\n",
      "Loaded dataset of 1874 samples, each sized (38, 1, 20, 20)\n",
      "\n",
      "client 4 data extraction:\n",
      "\n",
      "Loaded dataset of 375 samples, each sized (38, 1, 20, 20)\n",
      "\n",
      "client 5 data extraction:\n",
      "\n",
      "Loaded dataset of 375 samples, each sized (38, 1, 20, 20)\n",
      "\n",
      "client 6 data extraction:\n",
      "\n",
      "Loaded dataset of 749 samples, each sized (38, 1, 20, 20)\n",
      "\n",
      "client 7 data extraction:\n",
      "\n",
      "Loaded dataset of 374 samples, each sized (38, 1, 20, 20)\n",
      "\n",
      "client 8 data extraction:\n",
      "\n",
      "Loaded dataset of 373 samples, each sized (38, 1, 20, 20)\n",
      "\n",
      "client 9 data extraction:\n",
      "\n",
      "Loaded dataset of 374 samples, each sized (38, 1, 20, 20)\n",
      "\n",
      "client 10 data extraction:\n",
      "\n",
      "Loaded dataset of 375 samples, each sized (38, 1, 20, 20)\n",
      "\n",
      "client 11 data extraction:\n",
      "\n",
      "Loaded dataset of 375 samples, each sized (38, 1, 20, 20)\n",
      "\n",
      "client 12 data extraction:\n",
      "\n",
      "Loaded dataset of 375 samples, each sized (38, 1, 20, 20)\n",
      "\n",
      "client 13 data extraction:\n",
      "\n",
      "Loaded dataset of 375 samples, each sized (38, 1, 20, 20)\n",
      "\n",
      "client 14 data extraction:\n",
      "\n",
      "Loaded dataset of 375 samples, each sized (38, 1, 20, 20)\n",
      "\n",
      "client 15 data extraction:\n",
      "\n",
      "Loaded dataset of 374 samples, each sized (38, 1, 20, 20)\n",
      "\n",
      "client 16 data extraction:\n",
      "\n",
      "Loaded dataset of 375 samples, each sized (38, 1, 20, 20)\n",
      "\n",
      "client 17 data extraction:\n",
      "\n",
      "Loaded dataset of 375 samples, each sized (38, 1, 20, 20)\n",
      "\n"
     ]
    }
   ],
   "source": [
    "# Load data\n",
    "try:\n",
    "    os.mkdir('./dataset')\n",
    "except:\n",
    "    pass\n",
    "\n",
    "for user in range(1, 17+1):\n",
    "    print(f'client {user} data extraction:')\n",
    "    data, label = load_data(data_dir, ALL_MOTION, target_user=user)\n",
    "    torch.save({'data': data, 'label': label}, f'./dataset/user{user}.pt')\n",
    "    print('\\nLoaded dataset of ' + str(label.shape[0]) + ' samples, each sized ' + str(data[0,:,:].shape) + '\\n')"
   ]
  },
  {
   "cell_type": "markdown",
   "metadata": {},
   "source": [
    "### Plot data distribution"
   ]
  },
  {
   "cell_type": "code",
   "execution_count": 7,
   "metadata": {},
   "outputs": [],
   "source": [
    "def survey(data, client_names, class_names):\n",
    "    labels = client_names\n",
    "    data_cum = data.cumsum(axis=1)\n",
    "    category_colors = plt.get_cmap('tab10')(np.linspace(0.1, 0.9, len(class_names)))\n",
    "\n",
    "    fig, ax = plt.subplots(figsize=(10, 8))\n",
    "    ax.invert_yaxis()\n",
    "    \n",
    "    # Set x-axis limit to the maximum number of samples across all clients\n",
    "    ax.set_xlim(0, data.sum(axis=1).max() + 10)\n",
    "    ax.set_xlabel('Number of samples')\n",
    "\n",
    "    for i, (colname, color) in enumerate(zip(class_names, category_colors)):\n",
    "        widths = data[:, i]\n",
    "        starts = data_cum[:, i] - widths\n",
    "        ax.barh(labels, widths, left=starts, height=0.5,\n",
    "                label=colname, color=color)\n",
    "\n",
    "    ax.legend(loc='best')\n",
    "    ax.grid(True)\n",
    "    \n",
    "    return fig, ax"
   ]
  },
  {
   "cell_type": "code",
   "execution_count": 8,
   "metadata": {},
   "outputs": [
    {
     "data": {
      "image/png": "[encoded data removed]",
      "text/plain": [
       "<Figure size 720x576 with 1 Axes>"
      ]
     },
     "metadata": {
      "needs_background": "light"
     },
     "output_type": "display_data"
    }
   ],
   "source": [
    "# Load datasets\n",
    "num_clients = 17\n",
    "client_names = [f'Client {i+1}' for i in range(num_clients)]\n",
    "gesture_ = {v-1: k for k,v in gesture.items()}\n",
    "class_names = [gesture_[i] for i in range(num_classes)]\n",
    "\n",
    "data_matrix = np.zeros((num_clients, num_classes), dtype=int)\n",
    "for i in range(1, num_clients + 1):\n",
    "    # Load client data\n",
    "    client_data = torch.load(f'./dataset/user{i}.pt')['label']\n",
    "    unique_classes, class_counts = np.unique(client_data, return_counts=True)\n",
    "    data_matrix[i-1, unique_classes] = class_counts\n",
    "\n",
    "survey(data_matrix, client_names, class_names)\n",
    "plt.show()\n"
   ]
  },
  {
   "cell_type": "markdown",
   "metadata": {},
   "source": [
    "### Reduce number of client to 5"
   ]
  },
  {
   "cell_type": "code",
   "execution_count": 9,
   "metadata": {},
   "outputs": [],
   "source": [
    "from shutil import copyfile\n",
    "\n",
    "num_clients = 17\n",
    "\n",
    "# Define paths for the new \n",
    "destination_folder = './data'\n",
    "try:\n",
    "    os.makedirs(destination_folder)\n",
    "except:\n",
    "    pass\n",
    "\n",
    "merged_dataset_4 = {'data': [], 'label': []}\n",
    "merged_dataset_5 = {'data': [], 'label': []}\n",
    "\n",
    "for i in range(1, num_clients + 1):\n",
    "    client_data = torch.load(f'./dataset/user{i}.pt')\n",
    "    if 1 <= i <= 3:\n",
    "        copyfile(f'./dataset/user{i}.pt', os.path.join(destination_folder, f'data{i}.pt'))\n",
    "    elif 4 <= i <= 9:\n",
    "        merged_dataset_4['data'].append(client_data['data'])\n",
    "        merged_dataset_4['label'].append(client_data['label'])\n",
    "    else:\n",
    "        merged_dataset_5['data'].append(client_data['data'])\n",
    "        merged_dataset_5['label'].append(client_data['label'])\n",
    "\n",
    "merged_dataset_4 = {'data': np.concatenate(merged_dataset_4['data']), 'label': np.concatenate(merged_dataset_4['label'])}\n",
    "merged_dataset_5 = {'data': np.concatenate(merged_dataset_5['data']), 'label': np.concatenate(merged_dataset_5['label'])}\n",
    "\n",
    "# Save data and label separately\n",
    "torch.save(merged_dataset_4, os.path.join(destination_folder, f'data4.pt'))\n",
    "torch.save(merged_dataset_5, os.path.join(destination_folder, f'data5.pt'))"
   ]
  },
  {
   "cell_type": "code",
   "execution_count": 10,
   "metadata": {},
   "outputs": [
    {
     "data": {
      "image/png": "[encoded data removed]",
      "text/plain": [
       "<Figure size 720x576 with 1 Axes>"
      ]
     },
     "metadata": {
      "needs_background": "light"
     },
     "output_type": "display_data"
    }
   ],
   "source": [
    "# Load datasets\n",
    "num_clients = 5\n",
    "num_classes = 3\n",
    "client_names = [f'Client {i+1}' for i in range(num_clients)]\n",
    "gesture_ = {v-1: k for k,v in gesture.items()}\n",
    "class_names = [gesture_[i] for i in range(num_classes)]\n",
    "\n",
    "data_matrix = np.zeros((num_clients, num_classes), dtype=int)\n",
    "for i in range(1, num_clients + 1):\n",
    "    # Load client data\n",
    "    client_data = torch.load(f'./data/data{i}.pt')['label']\n",
    "    unique_classes, class_counts = np.unique(client_data, return_counts=True)\n",
    "    data_matrix[i-1, unique_classes] = class_counts\n",
    "\n",
    "survey(data_matrix, client_names, class_names)\n",
    "plt.show()"
   ]
  },
  {
   "cell_type": "markdown",
   "metadata": {},
   "source": [
    "# Model"
   ]
  },
  {
   "cell_type": "code",
   "execution_count": 11,
   "metadata": {},
   "outputs": [],
   "source": [
    "class CNNModule(nn.Module):\n",
    "    def __init__(self):\n",
    "        super(CNNModule, self).__init__()\n",
    "\n",
    "        self.cnn = nn.Sequential(\n",
    "            nn.Conv2d(in_channels=1, out_channels=16, kernel_size=3, padding='same'),\n",
    "            nn.ReLU(),\n",
    "            nn.Conv2d(in_channels=16, out_channels=16, kernel_size=3, padding='same'),\n",
    "            nn.ReLU(),\n",
    "            nn.MaxPool2d(kernel_size=2),\n",
    "            nn.Conv2d(in_channels=16, out_channels=8, kernel_size=2, padding='same'),\n",
    "            nn.ReLU(),\n",
    "            nn.Flatten(),\n",
    "            nn.Linear(8 * 10 * 10, 64),\n",
    "            nn.ReLU(),\n",
    "            nn.Dropout(0.25),\n",
    "            nn.Linear(64, 32),\n",
    "            nn.ReLU()\n",
    "        )\n",
    "\n",
    "    def forward(self, x):\n",
    "        return self.cnn(x)\n",
    "\n",
    "class ConvGRUModel(nn.Module):\n",
    "    def __init__(self, hidden_size, num_classes, num_timestamps):\n",
    "        super(ConvGRUModel, self).__init__()\n",
    "        \n",
    "        # CNN module for each input timestamp\n",
    "        self.cnn_modules = nn.ModuleList([\n",
    "            CNNModule() for _ in range(num_timestamps)\n",
    "        ])\n",
    "        \n",
    "        # GRU layers\n",
    "        self.gru = nn.GRU(32, hidden_size, num_layers=num_timestamps, batch_first=True, dropout=0.25)\n",
    "\n",
    "        # Fully connected layer at the output of last GRU\n",
    "        self.fc_out = nn.Linear(hidden_size, num_classes)\n",
    "\n",
    "        # Relu activation for fully connected\n",
    "        self.relu = nn.ReLU()\n",
    "        # Softmax activation for classification\n",
    "        self.softmax = nn.Softmax(dim=1)\n",
    "\n",
    "    def forward(self, x):\n",
    "        # Apply CNN module sequentially for each timestamp\n",
    "        x = np.swapaxes(x, 0, 1)\n",
    "        x = [module(xi) for module, xi in zip(self.cnn_modules, x)]\n",
    "        x = torch.stack(x, dim=1)  # Stack along the time dimension\n",
    "        \n",
    "        # GRU layer\n",
    "        x, _ = self.gru(x)\n",
    "\n",
    "        # Apply ReLU activation after the GRU layer\n",
    "        x = self.relu(x)\n",
    "\n",
    "        # Fully connected layer at the output of last GRU\n",
    "        x = self.fc_out(x[:, -1, :])\n",
    "        \n",
    "        # Softmax for classification\n",
    "        x = self.softmax(x)\n",
    "\n",
    "        return x"
   ]
  },
  {
   "cell_type": "markdown",
   "metadata": {},
   "source": [
    "### check model"
   ]
  },
  {
   "cell_type": "code",
   "execution_count": 12,
   "metadata": {},
   "outputs": [
    {
     "name": "stderr",
     "output_type": "stream",
     "text": [
      "c:\\Users\\Amirhosein\\AppData\\Local\\Programs\\Python\\Python39\\lib\\site-packages\\torch\\nn\\functional.py:718: UserWarning: Named tensors and all their associated APIs are an experimental feature and subject to change. Please do not use them for anything important until they are released as stable. (Triggered internally at  ..\\c10/core/TensorImpl.h:1156.)\n",
      "  return torch.max_pool2d(input, kernel_size, stride, padding, dilation, ceil_mode)\n",
      "c:\\Users\\Amirhosein\\AppData\\Local\\Programs\\Python\\Python39\\lib\\site-packages\\torch\\nn\\modules\\conv.py:439: UserWarning: Using padding='same' with even kernel lengths and odd dilation may require a zero-padded copy of the input be created (Triggered internally at  ..\\aten\\src\\ATen\\native\\Convolution.cpp:660.)\n",
      "  return F.conv2d(input, weight, bias, self.stride,\n"
     ]
    },
    {
     "name": "stdout",
     "output_type": "stream",
     "text": [
      "torch.Size([128, 3])\n"
     ]
    },
    {
     "ename": "",
     "evalue": "",
     "output_type": "error",
     "traceback": [
      "\u001b[1;31mThe Kernel crashed while executing code in the the current cell or a previous cell. Please review the code in the cell(s) to identify a possible cause of the failure. Click <a href='https://aka.ms/vscodeJupyterKernelCrash'>here</a> for more info. View Jupyter <a href='command:jupyter.viewOutput'>log</a> for further details."
     ]
    }
   ],
   "source": [
    "model = ConvGRUModel(n_gru_hidden_units, N_MOTION, T_MAX)\n",
    "# print(model)\n",
    "\n",
    "# Example input with batch size 16, 38 timestamps, height 20, width 20, and 1 channel\n",
    "input_data = torch.randn(128, 38, 1, 20, 20)\n",
    "\n",
    "# Forward pass\n",
    "output = model(input_data)\n",
    "print(output.shape)  # This should print torch.Size([16, 10]) assuming 10 output classes"
   ]
  }
 ],
 "metadata": {
  "kernelspec": {
   "display_name": "Python 3",
   "language": "python",
   "name": "python3"
  },
  "language_info": {
   "codemirror_mode": {
    "name": "ipython",
    "version": 3
   },
   "file_extension": ".py",
   "mimetype": "text/x-python",
   "name": "python",
   "nbconvert_exporter": "python",
   "pygments_lexer": "ipython3",
   "version": "3.9.6"
  }
 },
 "nbformat": 4,
 "nbformat_minor": 2
}
