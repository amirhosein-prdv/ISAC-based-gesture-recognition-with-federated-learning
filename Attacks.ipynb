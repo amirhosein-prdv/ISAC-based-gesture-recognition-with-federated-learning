{
 "cells": [
  {
   "cell_type": "code",
   "execution_count": 1,
   "metadata": {},
   "outputs": [],
   "source": [
    "from FedAvg_models import *\n",
    "from FedProx_models import *\n",
    "from utils import *"
   ]
  },
  {
   "cell_type": "code",
   "execution_count": 2,
   "metadata": {},
   "outputs": [],
   "source": [
    "fraction_for_test = 0.15\n",
    "num_class = 4\n",
    "ALL_MOTION = [i for i in range(1, num_class+1)]\n",
    "N_MOTION = len(ALL_MOTION) # Number of output classes\n",
    "T_MAX = 38 # Number of timestamps\n",
    "n_gru_hidden_units = 128\n",
    "device = torch.device(\"cuda:0\" if torch.cuda.is_available() else \"cpu\")\n",
    "\n",
    "destination_folder = './results'\n",
    "try:\n",
    "    os.makedirs(destination_folder)\n",
    "except:\n",
    "    pass"
   ]
  },
  {
   "cell_type": "markdown",
   "metadata": {},
   "source": [
    "# Model"
   ]
  },
  {
   "cell_type": "code",
   "execution_count": 3,
   "metadata": {},
   "outputs": [],
   "source": [
    "class CNNModule(nn.Module):\n",
    "    def __init__(self):\n",
    "        super(CNNModule, self).__init__()\n",
    "\n",
    "        self.cnn = nn.Sequential(\n",
    "            nn.Conv2d(in_channels=1, out_channels=16, kernel_size=3, padding='same'),\n",
    "            nn.ReLU(),\n",
    "            nn.Conv2d(in_channels=16, out_channels=16, kernel_size=3, padding='same'),\n",
    "            nn.ReLU(),\n",
    "            nn.MaxPool2d(kernel_size=2),\n",
    "            nn.Conv2d(in_channels=16, out_channels=8, kernel_size=2, padding='same'),\n",
    "            nn.ReLU(),\n",
    "            nn.Flatten(),\n",
    "            nn.Linear(8 * 10 * 10, 64),\n",
    "            nn.ReLU(),\n",
    "            nn.Dropout(0.25),\n",
    "            nn.Linear(64, 32),\n",
    "            nn.ReLU()\n",
    "        )\n",
    "\n",
    "    def forward(self, x):\n",
    "        return self.cnn(x)\n",
    "\n",
    "class ConvGRUModel(nn.Module):\n",
    "    def __init__(self, hidden_size, num_classes, num_timestamps):\n",
    "        super(ConvGRUModel, self).__init__()\n",
    "\n",
    "        # CNN module for each input timestamp\n",
    "        self.cnn_modules = nn.ModuleList([\n",
    "            CNNModule() for _ in range(num_timestamps)\n",
    "        ])\n",
    "\n",
    "        # GRU layers\n",
    "        self.gru = nn.GRU(32, hidden_size, num_layers=num_timestamps, batch_first=True, dropout=0.25)\n",
    "\n",
    "        # Fully connected layer at the output of last GRU\n",
    "        self.fc_out = nn.Linear(hidden_size, num_classes)\n",
    "\n",
    "        # Relu activation for fully connected\n",
    "        self.relu = nn.ReLU()\n",
    "        # Softmax activation for classification\n",
    "        self.softmax = nn.Softmax(dim=1)\n",
    "\n",
    "    def forward(self, x):\n",
    "        # Apply CNN module sequentially for each timestamp\n",
    "        x = x.unsqueeze(2)\n",
    "        x = np.swapaxes(x, 0, 1)\n",
    "        x = [module(xi) for module, xi in zip(self.cnn_modules, x)]\n",
    "        x = torch.stack(x, dim=1)  # Stack along the time dimension\n",
    "\n",
    "        # GRU layer\n",
    "        x, _ = self.gru(x)\n",
    "\n",
    "        # Apply ReLU activation after the GRU layer\n",
    "        x = self.relu(x)\n",
    "\n",
    "        # Fully connected layer at the output of last GRU\n",
    "        x = self.fc_out(x[:, -1, :])\n",
    "\n",
    "        # Softmax for classification\n",
    "        x = self.softmax(x)\n",
    "\n",
    "        return x"
   ]
  },
  {
   "cell_type": "markdown",
   "metadata": {},
   "source": [
    "## Load dataset"
   ]
  },
  {
   "cell_type": "code",
   "execution_count": 4,
   "metadata": {},
   "outputs": [],
   "source": [
    "# Load datasets\n",
    "num_clients = 5\n",
    "batch_size = 128\n",
    "client_datasets = {}\n",
    "client_loaders = {}\n",
    "\n",
    "for i in range(1, num_clients + 1):\n",
    "    # Load client data\n",
    "    client_data = torch.load(f'./data/data{i}.pt')\n",
    "    data = torch.from_numpy(client_data['data']).float()\n",
    "    label = torch.from_numpy(client_data['label']).long()\n",
    "\n",
    "    # Split data into training and testing sets\n",
    "    data_train, data_test, label_train, label_test = train_test_split(\n",
    "        data, label, test_size=fraction_for_test, random_state=42\n",
    "    )\n",
    "\n",
    "    train_dataset = TensorDataset(data_train, label_train)\n",
    "    test_dataset = TensorDataset(data_test, label_test)\n",
    "    client_datasets[f'client{i}'] = {'train': train_dataset, 'test':test_dataset}\n",
    "\n",
    "    # Set up data loaders for each client's\n",
    "    train_loader = DataLoader(train_dataset, batch_size=batch_size, shuffle=True)\n",
    "    test_loader = DataLoader(test_dataset, batch_size=batch_size, shuffle=False)\n",
    "\n",
    "    client_loaders[f'client{i}'] = {'train': train_loader, 'test':test_loader}"
   ]
  },
  {
   "cell_type": "markdown",
   "metadata": {},
   "source": [
    "# Evasion Attack"
   ]
  },
  {
   "cell_type": "code",
   "execution_count": 5,
   "metadata": {},
   "outputs": [],
   "source": [
    "def evasion_attack(data, epsilon, data_grad):\n",
    "    sign_data_grad = data_grad.sign()\n",
    "    perturbed_data = data + epsilon * sign_data_grad\n",
    "    perturbed_data = torch.clamp(perturbed_data, 0, 1)\n",
    "    return perturbed_data\n",
    "\n",
    "def evasion_attack_test(model, device, client_loaders, epsilon= 0.2):\n",
    "    test_size = []\n",
    "    clients_accuracye = []\n",
    "\n",
    "    for client in range(1, len(client_loaders)+1):\n",
    "        test_loader = client_loaders[f'client{client}']['test']\n",
    "        test_size.append(len(test_loader.dataset))\n",
    "\n",
    "        correct = 0\n",
    "        total = 0\n",
    "        for data, labels in test_loader:\n",
    "            model.to(device)\n",
    "            model.train()\n",
    "\n",
    "            data, labels = data.to(device), labels.to(device)\n",
    "\n",
    "            data.requires_grad = True\n",
    "            outputs = model(data)\n",
    "            \n",
    "            loss = nn.CrossEntropyLoss()(outputs, labels)\n",
    "            model.zero_grad()\n",
    "            loss.backward()\n",
    "\n",
    "            data_grad = data.grad.data\n",
    "            perturbed_images = evasion_attack(data, epsilon, data_grad)\n",
    "\n",
    "            outputs = model(perturbed_images)\n",
    "            _, predicted = outputs.max(1)\n",
    "\n",
    "            total += labels.size(0)\n",
    "            correct += predicted.eq(labels).sum().item()\n",
    "\n",
    "        accuracy = 100 * correct / total\n",
    "        clients_accuracye.append(accuracy)\n",
    "    \n",
    "    accuracy = np.average(clients_accuracye, weights=test_size)\n",
    "    print(f'Weighted mean Accuracy on clients test data after evasion attack: {accuracy:.2f}%')\n"
   ]
  },
  {
   "cell_type": "markdown",
   "metadata": {},
   "source": [
    "### FedAvg"
   ]
  },
  {
   "cell_type": "code",
   "execution_count": 6,
   "metadata": {},
   "outputs": [
    {
     "name": "stdout",
     "output_type": "stream",
     "text": [
      "Weighted mean Accuracy on clients test data after evasion attack: 31.02%\n"
     ]
    }
   ],
   "source": [
    "model = ConvGRUModel(n_gru_hidden_units, N_MOTION, T_MAX)\n",
    "loaded_model = torch.load('./results/FedAvg/FedAvg_model.pth')\n",
    "model.load_state_dict(loaded_model)\n",
    "\n",
    "evasion_attack_test(model, device, client_loaders)"
   ]
  },
  {
   "cell_type": "markdown",
   "metadata": {},
   "source": [
    "### FedAvg+SAM"
   ]
  },
  {
   "cell_type": "code",
   "execution_count": 7,
   "metadata": {},
   "outputs": [
    {
     "name": "stdout",
     "output_type": "stream",
     "text": [
      "Weighted mean Accuracy on clients test data after evasion attack: 31.02%\n"
     ]
    }
   ],
   "source": [
    "model = ConvGRUModel(n_gru_hidden_units, N_MOTION, T_MAX)\n",
    "loaded_model = torch.load('./results/FedAvg/FedAvg_SAM_model.pth')\n",
    "model.load_state_dict(loaded_model)\n",
    "\n",
    "evasion_attack_test(model, device, client_loaders)"
   ]
  },
  {
   "cell_type": "markdown",
   "metadata": {},
   "source": [
    "### FedAvg+FGSM"
   ]
  },
  {
   "cell_type": "code",
   "execution_count": 8,
   "metadata": {},
   "outputs": [
    {
     "name": "stdout",
     "output_type": "stream",
     "text": [
      "Weighted mean Accuracy on clients test data after evasion attack: 30.93%\n"
     ]
    }
   ],
   "source": [
    "model = ConvGRUModel(n_gru_hidden_units, N_MOTION, T_MAX)\n",
    "loaded_model = torch.load('./results/FedAvg/FedAvg_FGSM_model.pth')\n",
    "model.load_state_dict(loaded_model)\n",
    "\n",
    "evasion_attack_test(model, device, client_loaders)"
   ]
  },
  {
   "cell_type": "markdown",
   "metadata": {},
   "source": [
    "### FedProx"
   ]
  },
  {
   "cell_type": "code",
   "execution_count": 9,
   "metadata": {},
   "outputs": [
    {
     "name": "stdout",
     "output_type": "stream",
     "text": [
      "Weighted mean Accuracy on clients test data after evasion attack: 31.02%\n"
     ]
    }
   ],
   "source": [
    "model = ConvGRUModel(n_gru_hidden_units, N_MOTION, T_MAX)\n",
    "loaded_model = torch.load('./results/FedProx/FedProx_model.pth')\n",
    "model.load_state_dict(loaded_model)\n",
    "\n",
    "evasion_attack_test(model, device, client_loaders)"
   ]
  },
  {
   "cell_type": "markdown",
   "metadata": {},
   "source": [
    "### FedProx+SAM"
   ]
  },
  {
   "cell_type": "code",
   "execution_count": 10,
   "metadata": {},
   "outputs": [
    {
     "name": "stdout",
     "output_type": "stream",
     "text": [
      "Weighted mean Accuracy on clients test data after evasion attack: 31.02%\n"
     ]
    }
   ],
   "source": [
    "model = ConvGRUModel(n_gru_hidden_units, N_MOTION, T_MAX)\n",
    "loaded_model = torch.load('./results/FedProx/FedProx_SAM_model.pth')\n",
    "model.load_state_dict(loaded_model)\n",
    "\n",
    "evasion_attack_test(model, device, client_loaders)"
   ]
  },
  {
   "cell_type": "markdown",
   "metadata": {},
   "source": [
    "### FedProx+FGSM"
   ]
  },
  {
   "cell_type": "code",
   "execution_count": 11,
   "metadata": {},
   "outputs": [
    {
     "name": "stdout",
     "output_type": "stream",
     "text": [
      "Weighted mean Accuracy on clients test data after evasion attack: 31.02%\n"
     ]
    }
   ],
   "source": [
    "model = ConvGRUModel(n_gru_hidden_units, N_MOTION, T_MAX)\n",
    "loaded_model = torch.load('./results/FedProx/FedProx_FGSM_model.pth')\n",
    "model.load_state_dict(loaded_model)\n",
    "\n",
    "evasion_attack_test(model, device, client_loaders)"
   ]
  },
  {
   "cell_type": "markdown",
   "metadata": {},
   "source": [
    "### FedADMM"
   ]
  },
  {
   "cell_type": "code",
   "execution_count": 12,
   "metadata": {},
   "outputs": [
    {
     "name": "stdout",
     "output_type": "stream",
     "text": [
      "Weighted mean Accuracy on clients test data after evasion attack: 27.76%\n"
     ]
    }
   ],
   "source": [
    "model = ConvGRUModel(n_gru_hidden_units, N_MOTION, T_MAX)\n",
    "loaded_model = torch.load('./results/FedADMM/FedADMM_model.pth')\n",
    "model.load_state_dict(loaded_model)\n",
    "\n",
    "evasion_attack_test(model, device, client_loaders)"
   ]
  },
  {
   "cell_type": "markdown",
   "metadata": {},
   "source": [
    "# Adversarial Attack"
   ]
  },
  {
   "cell_type": "code",
   "execution_count": 13,
   "metadata": {},
   "outputs": [],
   "source": [
    "def adversarial_attack(data, mean=0, std=0.4):\n",
    "\n",
    "    noise = torch.randn(data.shape) * std + mean\n",
    "    noisy_data = data + 0.1 * noise\n",
    "    # Ensure the pixel values are still in the valid range [0, 1]\n",
    "    noisy_data = torch.clamp(noisy_data, 0, 1)\n",
    "    return noisy_data\n",
    "\n",
    "\n",
    "def attack_test(model, device, client_loaders, mean=0, std=0.75):\n",
    "    test_size = []\n",
    "    clients_accuracye = []\n",
    "\n",
    "    for client in range(1, len(client_loaders)+1):\n",
    "        test_loader = client_loaders[f'client{client}']['test']\n",
    "        test_size.append(len(test_loader.dataset))\n",
    "\n",
    "        correct = 0\n",
    "        total = 0\n",
    "        for data, labels in test_loader:\n",
    "            model.to(device)\n",
    "            model.eval()\n",
    "\n",
    "            data, labels = data, labels.to(device)\n",
    "                        \n",
    "            perturbed_images = adversarial_attack(data, mean, std).to(device)\n",
    "\n",
    "            outputs = model(perturbed_images)\n",
    "            \n",
    "            _, predicted = outputs.max(1)\n",
    "\n",
    "            total += labels.size(0)\n",
    "            correct += predicted.eq(labels).sum().item()\n",
    "\n",
    "        accuracy = 100 * correct / total\n",
    "        clients_accuracye.append(accuracy)\n",
    "    \n",
    "    accuracy = np.average(clients_accuracye, weights=test_size)\n",
    "    print(f'Weighted mean Accuracy on clients test data after evasion attack: {accuracy:.2f}%')\n"
   ]
  },
  {
   "cell_type": "markdown",
   "metadata": {},
   "source": [
    "### FedAvg"
   ]
  },
  {
   "cell_type": "code",
   "execution_count": 14,
   "metadata": {},
   "outputs": [
    {
     "name": "stdout",
     "output_type": "stream",
     "text": [
      "Weighted mean Accuracy on clients test data after evasion attack: 31.02%\n"
     ]
    }
   ],
   "source": [
    "model = ConvGRUModel(n_gru_hidden_units, N_MOTION, T_MAX)\n",
    "loaded_model = torch.load('./results/FedAvg/FedAvg_model.pth')\n",
    "model.load_state_dict(loaded_model)\n",
    "\n",
    "attack_test(model, device, client_loaders)"
   ]
  },
  {
   "cell_type": "markdown",
   "metadata": {},
   "source": [
    "### FedAvg+SAM"
   ]
  },
  {
   "cell_type": "code",
   "execution_count": 15,
   "metadata": {},
   "outputs": [
    {
     "name": "stdout",
     "output_type": "stream",
     "text": [
      "Weighted mean Accuracy on clients test data after evasion attack: 31.02%\n"
     ]
    }
   ],
   "source": [
    "model = ConvGRUModel(n_gru_hidden_units, N_MOTION, T_MAX)\n",
    "loaded_model = torch.load('./results/FedAvg/FedAvg_SAM_model.pth')\n",
    "model.load_state_dict(loaded_model)\n",
    "\n",
    "attack_test(model, device, client_loaders)"
   ]
  },
  {
   "cell_type": "markdown",
   "metadata": {},
   "source": [
    "### FedAvg+FGSM"
   ]
  },
  {
   "cell_type": "code",
   "execution_count": 16,
   "metadata": {},
   "outputs": [
    {
     "name": "stdout",
     "output_type": "stream",
     "text": [
      "Weighted mean Accuracy on clients test data after evasion attack: 31.02%\n"
     ]
    }
   ],
   "source": [
    "model = ConvGRUModel(n_gru_hidden_units, N_MOTION, T_MAX)\n",
    "loaded_model = torch.load('./results/FedAvg/FedAvg_FGSM_model.pth')\n",
    "model.load_state_dict(loaded_model)\n",
    "\n",
    "attack_test(model, device, client_loaders)"
   ]
  },
  {
   "cell_type": "markdown",
   "metadata": {},
   "source": [
    "### FedProx"
   ]
  },
  {
   "cell_type": "code",
   "execution_count": 17,
   "metadata": {},
   "outputs": [
    {
     "name": "stdout",
     "output_type": "stream",
     "text": [
      "Weighted mean Accuracy on clients test data after evasion attack: 31.02%\n"
     ]
    }
   ],
   "source": [
    "model = ConvGRUModel(n_gru_hidden_units, N_MOTION, T_MAX)\n",
    "loaded_model = torch.load('./results/FedProx/FedProx_model.pth')\n",
    "model.load_state_dict(loaded_model)\n",
    "\n",
    "attack_test(model, device, client_loaders)"
   ]
  },
  {
   "cell_type": "markdown",
   "metadata": {},
   "source": [
    "### FedProx+SAM"
   ]
  },
  {
   "cell_type": "code",
   "execution_count": 18,
   "metadata": {},
   "outputs": [
    {
     "name": "stdout",
     "output_type": "stream",
     "text": [
      "Weighted mean Accuracy on clients test data after evasion attack: 31.02%\n"
     ]
    }
   ],
   "source": [
    "model = ConvGRUModel(n_gru_hidden_units, N_MOTION, T_MAX)\n",
    "loaded_model = torch.load('./results/FedProx/FedProx_SAM_model.pth')\n",
    "model.load_state_dict(loaded_model)\n",
    "\n",
    "attack_test(model, device, client_loaders)"
   ]
  },
  {
   "cell_type": "markdown",
   "metadata": {},
   "source": [
    "### FedProx+FGSM"
   ]
  },
  {
   "cell_type": "code",
   "execution_count": 19,
   "metadata": {},
   "outputs": [
    {
     "name": "stdout",
     "output_type": "stream",
     "text": [
      "Weighted mean Accuracy on clients test data after evasion attack: 31.02%\n"
     ]
    }
   ],
   "source": [
    "model = ConvGRUModel(n_gru_hidden_units, N_MOTION, T_MAX)\n",
    "loaded_model = torch.load('./results/FedProx/FedProx_FGSM_model.pth')\n",
    "model.load_state_dict(loaded_model)\n",
    "\n",
    "attack_test(model, device, client_loaders)"
   ]
  },
  {
   "cell_type": "markdown",
   "metadata": {},
   "source": [
    "### FedADMM"
   ]
  },
  {
   "cell_type": "code",
   "execution_count": 20,
   "metadata": {},
   "outputs": [
    {
     "name": "stdout",
     "output_type": "stream",
     "text": [
      "Weighted mean Accuracy on clients test data after evasion attack: 27.98%\n"
     ]
    }
   ],
   "source": [
    "model = ConvGRUModel(n_gru_hidden_units, N_MOTION, T_MAX)\n",
    "loaded_model = torch.load('./results/FedADMM/FedADMM_model.pth')\n",
    "model.load_state_dict(loaded_model)\n",
    "\n",
    "attack_test(model, device, client_loaders)"
   ]
  }
 ],
 "metadata": {
  "kernelspec": {
   "display_name": "Python 3",
   "language": "python",
   "name": "python3"
  },
  "language_info": {
   "codemirror_mode": {
    "name": "ipython",
    "version": 3
   },
   "file_extension": ".py",
   "mimetype": "text/x-python",
   "name": "python",
   "nbconvert_exporter": "python",
   "pygments_lexer": "ipython3",
   "version": "3.9.6"
  }
 },
 "nbformat": 4,
 "nbformat_minor": 2
}
